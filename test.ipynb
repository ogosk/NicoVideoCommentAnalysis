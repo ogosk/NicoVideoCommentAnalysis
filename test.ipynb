{
 "cells": [
  {
   "cell_type": "code",
   "execution_count": null,
   "id": "009719d5-a7e6-4759-aee5-a0fb5c3684db",
   "metadata": {},
   "outputs": [],
   "source": [
    "from IPython.display import display, Image, HTML\n",
    "\n",
    "from nico_info import NicovideoInfomation\n",
    "from utils import analyze_comments"
   ]
  },
  {
   "cell_type": "code",
   "execution_count": null,
   "id": "7ff7e45f-862e-44fd-930b-6afd5ae7ecee",
   "metadata": {},
   "outputs": [],
   "source": [
    "# pd.set_option('display.max_rows', None)\n",
    "# pd.set_option('display.max_columns', None)"
   ]
  },
  {
   "cell_type": "markdown",
   "id": "3e21f8f2-3cf1-4581-ac88-f292ac262435",
   "metadata": {},
   "source": [
    "CLASS `NicovideoInfomation(video_url: str = None, video_id: str = None)`\n",
    "\n",
    "Parameters\n",
    "- `video_url(str)` - 動画のURL\n",
    "- `video_id(str)` - 動画のID\n",
    "> どちらかだけでOK\n",
    "\n",
    "`load_comments(forks, mode, hop_rate, check, tqdm_kwargs)`\n",
    "\n",
    "Parameters\n",
    "- `forks(Union[int, list])` - コメントのタイプ (0: 一般，1: 投稿者，2: かんたん)\n",
    "- `mode(str)` - 読み込み方 (once: 最新のみ，roughly: 粗めに，exactly: 正確に)\n",
    "- `hop_rate(float)` - 過去コメントを読み込むためのパラメータ(粗め: 0~1 :正確)\n",
    "- `check` - コメントをどれだけ読み込めたか表示する\n",
    "\n",
    "`video_html(w, h)`\n",
    "\n",
    "Parameters\n",
    "- `h(int)` - 高さ\n",
    "- `w(int)` - 幅\n",
    "\n",
    "Returns\n",
    "- `html(str)` - 動画埋め込み用の HTML"
   ]
  },
  {
   "cell_type": "code",
   "execution_count": null,
   "id": "c0166c34-d325-4079-8330-660f67b57883",
   "metadata": {},
   "outputs": [],
   "source": [
    "ninfo = NicovideoInfomation(input())\n",
    "ninfo.load_comments([0, 2], hop_rate=.2, mode='exactly', check=True)\n",
    "display(HTML(ninfo.video_html()))\n",
    "\n",
    "comments_df = ninfo.comments_df"
   ]
  },
  {
   "cell_type": "code",
   "execution_count": null,
   "id": "317111f0-1ec1-4247-b6dd-4c049c17b18a",
   "metadata": {},
   "outputs": [],
   "source": [
    "tgt_df = comments_df[comments_df.index.str[0] == '0']"
   ]
  },
  {
   "cell_type": "markdown",
   "id": "059a7895-054e-4768-a94e-3dd26dc18dc1",
   "metadata": {},
   "source": [
    "### コメントのプロット"
   ]
  },
  {
   "cell_type": "code",
   "execution_count": null,
   "id": "aaac5cee-93c8-4552-a973-8a956c07fc12",
   "metadata": {
    "tags": []
   },
   "outputs": [],
   "source": [
    "remove_index = ['user_id', '184', 'position', 'size', 'color', 'command', 'score']\n",
    "for fork in sorted(set(comments_df.index.str[0])):\n",
    "    fork_df = comments_df[comments_df.index.str[0] == fork]\n",
    "    display(fork_df.drop(remove_index, axis=1))"
   ]
  },
  {
   "cell_type": "markdown",
   "id": "c9f4a38b-b393-468e-99ab-58fab7d8de15",
   "metadata": {},
   "source": [
    "### WordCloud によるコメント解析"
   ]
  },
  {
   "cell_type": "code",
   "execution_count": null,
   "id": "a3a65a07-73aa-4f66-b2c7-cbad1fa536c9",
   "metadata": {},
   "outputs": [],
   "source": [
    "from wordcloud import WordCloud"
   ]
  },
  {
   "cell_type": "code",
   "execution_count": null,
   "id": "fdc2088d-4d6b-488c-8cdc-3852344dfefe",
   "metadata": {},
   "outputs": [],
   "source": [
    "tgt_comments = tgt_df.comment\n",
    "\n",
    "# tokenizer には janome か sudachi が選択できる\n",
    "results = analyze_comments(tgt_comments, tokenizer='janome')\n",
    "text = ' '.join(results)\n",
    "\n",
    "font_path = '/System/Library/Fonts/ヒラギノ角ゴシック W3.ttc'\n",
    "wordcloud = WordCloud(\n",
    "    background_color='white',\n",
    "    font_path=font_path,\n",
    "    width=800,\n",
    "    height=600,\n",
    "    max_words=500\n",
    ").generate(text)\n",
    "\n",
    "wordcloud.to_file('./wordcloud.png')\n",
    "display(Image('./wordcloud.png'))"
   ]
  },
  {
   "cell_type": "markdown",
   "id": "18e3e68c-a56a-4249-b954-2e80e93dbc57",
   "metadata": {},
   "source": [
    "### ユーザー毎の投稿頻度"
   ]
  },
  {
   "cell_type": "code",
   "execution_count": null,
   "id": "762f2634-01be-461f-9782-7299accbca63",
   "metadata": {},
   "outputs": [],
   "source": [
    "import matplotlib.pyplot as plt\n",
    "from pprint import pprint"
   ]
  },
  {
   "cell_type": "code",
   "execution_count": null,
   "id": "5dfd3e18-f446-4e9d-87f8-20ff46a102ce",
   "metadata": {},
   "outputs": [],
   "source": [
    "tgt_df = comments_df[comments_df.index.str[0] == '0']\n",
    "uids = set(tgt_df.user_id)\n",
    "hists = [(uid, len(tgt_df[tgt_df.user_id == uid])) for uid in uids]\n",
    "hists.sort(key=lambda x: x[1], reverse=True)\n",
    "\n",
    "left = range(len(hists))\n",
    "height = [t[1] for t in hists]\n",
    "\n",
    "print(f'max: {max(height)}')\n",
    "print(f'min: {min(height)}')\n",
    "print(f'avg: {sum(height)/len(height):.2f}')\n",
    "print('---')\n",
    "print('many post users:')\n",
    "pprint({t[0]: t[1] for t in hists[:5]})\n",
    "\n",
    "plt.bar(left, height)\n",
    "plt.show()"
   ]
  },
  {
   "cell_type": "code",
   "execution_count": null,
   "id": "962d5573-15ab-4b5a-963d-1e5d7d7a4ecb",
   "metadata": {},
   "outputs": [],
   "source": [
    "tgt_df = comments_df[comments_df.index.str[0] == '2']\n",
    "uids = set(tgt_df.user_id)\n",
    "hists = [(uid, len(tgt_df[tgt_df.user_id == uid])) for uid in uids]\n",
    "hists.sort(key=lambda x: x[1], reverse=True)\n",
    "\n",
    "left = range(len(hists))\n",
    "height = [t[1] for t in hists]\n",
    "\n",
    "print(f'max: {max(height)}')\n",
    "print(f'min: {min(height)}')\n",
    "print(f'avg: {sum(height)/len(height):.2f}')\n",
    "print('---')\n",
    "print('many post users:')\n",
    "pprint({t[0]: t[1] for t in hists[:5]})\n",
    "\n",
    "plt.bar(left, height)\n",
    "plt.show()"
   ]
  },
  {
   "cell_type": "markdown",
   "id": "444d2429-41ce-4a39-9858-0902a7cd9069",
   "metadata": {},
   "source": [
    "### スコアの低いユーザーの投稿"
   ]
  },
  {
   "cell_type": "code",
   "execution_count": null,
   "id": "e032fbeb-4e6f-432a-983d-32e812028c85",
   "metadata": {},
   "outputs": [],
   "source": [
    "tgt_df = comments_df[comments_df.index.str[0] == '0']\n",
    "uids = set(tgt_df.user_id)\n",
    "scores = [\n",
    "    (uid, tgt_df[tgt_df.user_id == uid].score.values.mean())\n",
    "    for uid in uids\n",
    "]\n",
    "scores = [t for t in scores if t[1] != 0.]\n",
    "scores.sort(key=lambda x: x[1])\n",
    "\n",
    "left = range(len(scores))\n",
    "height = [t[1] for t in scores]\n",
    "\n",
    "plt.bar(left, height)\n",
    "plt.show()\n",
    "\n",
    "remove_index = ['user_id', 'write_time', 'video_time', 'command', '184']\n",
    "for score in scores[:5]:\n",
    "    print('min score user:', score[0])\n",
    "    display(tgt_df[tgt_df.user_id == score[0]].drop(remove_index, axis=1))"
   ]
  },
  {
   "cell_type": "code",
   "execution_count": null,
   "id": "77e7067e-e8e2-4cd5-b3d7-e794f9d5b550",
   "metadata": {},
   "outputs": [],
   "source": []
  }
 ],
 "metadata": {
  "kernelspec": {
   "display_name": "Python 3",
   "language": "python",
   "name": "python3"
  },
  "language_info": {
   "codemirror_mode": {
    "name": "ipython",
    "version": 3
   },
   "file_extension": ".py",
   "mimetype": "text/x-python",
   "name": "python",
   "nbconvert_exporter": "python",
   "pygments_lexer": "ipython3",
   "version": "3.7.7"
  }
 },
 "nbformat": 4,
 "nbformat_minor": 5
}
